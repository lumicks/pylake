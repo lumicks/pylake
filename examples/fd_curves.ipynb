{
 "cells": [
  {
   "cell_type": "code",
   "execution_count": null,
   "metadata": {
    "collapsed": true
   },
   "outputs": [],
   "source": [
    "import matplotlib.pyplot as plt\n",
    "import numpy as np\n",
    "from lumicks import pylake\n",
    "\n",
    "%matplotlib inline"
   ]
  },
  {
   "cell_type": "markdown",
   "metadata": {},
   "source": [
    "# Loading files\n",
    "\n",
    "First we need to import the data files exported from Bluelake, in this case we are going to compare 2 fd curves previously recorded."
   ]
  },
  {
   "cell_type": "code",
   "execution_count": null,
   "metadata": {
    "collapsed": true
   },
   "outputs": [],
   "source": [
    "file1 = pylake.File(\"data/20180611-142601 FD Curve 1.h5\")\n",
    "file2 = pylake.File(\"data/20180611-142629 FD Curve 2.h5\")"
   ]
  },
  {
   "cell_type": "markdown",
   "metadata": {},
   "source": [
    "# Inspect file content\n",
    "To check the content of the file we can use the function \n",
    "```\n",
    "print(\"file name\")\n",
    "``` \n",
    "to list all the items that are stored inside. In this case the file contains the FD curve item with the corresponding force calibration values."
   ]
  },
  {
   "cell_type": "code",
   "execution_count": null,
   "metadata": {},
   "outputs": [],
   "source": [
    "print(file1)"
   ]
  },
  {
   "cell_type": "markdown",
   "metadata": {},
   "source": [
    "# Visualize data\n",
    "\n",
    "Once we know the name of the items we want to visualize, we can load them from the file and display them.\n",
    "\n",
    "By default, the FD curve will be displayed with the Distance 1 on the X axis and Force 2 on the  Y axis:\n",
    "```\n",
    "fd1.plot_scatter(label=\"Fd 1\")\n",
    "```\n",
    "\n",
    "but any channel can be chosen: \n",
    "```\n",
    "fd2.with_channels(force='1x', distance='1').plot_scatter(label=\"Fd 2\")\n",
    "```"
   ]
  },
  {
   "cell_type": "code",
   "execution_count": null,
   "metadata": {},
   "outputs": [],
   "source": [
    "# load the Fd items from file\n",
    "fd1 = file1.fdcurves[\"1\"]\n",
    "fd2 = file2.fdcurves[\"2\"]\n",
    "plt.figure(figsize=(16,5))\n",
    "# plot with default channels\n",
    "fd1.plot_scatter(label=\"Fd 1\")\n",
    "# plot with custom channel selection\n",
    "fd2.with_channels(force='2x', distance='1').plot_scatter(label=\"Fd 2\")\n",
    "plt.legend();"
   ]
  },
  {
   "cell_type": "markdown",
   "metadata": {},
   "source": [
    "# Data analysis\n",
    "\n",
    "We can compare the recorded data with the teoretical models\n",
    "\n",
    "### Odijk Worm-like chain model\n",
    "\n",
    "$$ d = Lc \\bigg (1 - \\frac{1}{2} \\sqrt{ \\frac{kT}{F Lp}} + \\frac{F}{S} \\bigg)$$\n",
    "\n",
    "### Freely-Jointed Chain\n",
    "\n",
    "$$ d = Lc \\bigg [ \\coth \\Big ({\\frac{2FLp}{kT} \\Big)  - \\frac{kT}{2FLp}} \\bigg] \\bigg( 1 + \\frac{F}{S}\\bigg) $$ \n",
    "\n",
    "\n",
    "\n",
    "\n",
    "\n",
    "| Parameter| Description | \n",
    "|---|------------------------|\n",
    "|d  | extension (um)         |\n",
    "|F  | Force (pn)             |\n",
    "|Lp | Persistence lenght (nm)|\n",
    "|Lc | Contour lenght (um)    |\n",
    "|S  | Stretching modulus (p) |\n",
    "|kT | Boltzmann's costant times the temperature (optional, by default 4.11 pN nm)|\n",
    "\n",
    "\n",
    "\n",
    "\n",
    "\n",
    "\n",
    "\n"
   ]
  },
  {
   "cell_type": "code",
   "execution_count": null,
   "metadata": {},
   "outputs": [],
   "source": [
    "def fOdijk(F,Lp,Lc,S,kT=4.11): \n",
    "    return Lc * (1 - 1./2*np.sqrt(kT/(F*Lp)) + F/S)\n",
    "\n",
    "def fFJC(F,Lp,Lc,S,kT=4.11): \n",
    "    return Lc * (1/np.tanh((F*Lp)/kT) - kT/(F*Lp)) * ( 1 + F/S)\n",
    "\n",
    "# generate our force range on interest \n",
    "f = np.linspace(fd1.f.data.min(),fd1.f.data.max(),fd1.f.data.size)\n",
    "\n",
    "# generate the reference curves\n",
    "ref1 = fOdijk(f,Lp=50,Lc=16,S=1000)\n",
    "ref2 = fFJC(f,Lp=1.5,Lc=16,S=1000)\n",
    "\n",
    "# plot our data alongside the reference curves\n",
    "plt.figure(figsize=(16,5))\n",
    "fd1.plot_scatter(label=\"Fd 1\")\n",
    "plt.plot(ref1,f,'r',label=\"Odijk Worm-like Chain\");\n",
    "#plt.plot(ref2,f,'g',label=\"Freely-Jointed Chain\");\n",
    "plt.legend();"
   ]
  },
  {
   "cell_type": "markdown",
   "metadata": {},
   "source": [
    "# Force calibration\n",
    "We can also display the calibration values which are always stored alonside the items: "
   ]
  },
  {
   "cell_type": "code",
   "execution_count": null,
   "metadata": {
    "scrolled": false
   },
   "outputs": [],
   "source": [
    "# Print the list of calibration paramenters\n",
    "list(file1[\"Calibration\"][\"19\"][\"Force 2x\"].h5.attrs.items())"
   ]
  }
 ],
 "metadata": {
  "kernelspec": {
   "display_name": "Python 3",
   "language": "python",
   "name": "python3"
  },
  "language_info": {
   "codemirror_mode": {
    "name": "ipython",
    "version": 3
   },
   "file_extension": ".py",
   "mimetype": "text/x-python",
   "name": "python",
   "nbconvert_exporter": "python",
   "pygments_lexer": "ipython3",
   "version": "3.6.5"
  }
 },
 "nbformat": 4,
 "nbformat_minor": 2
}
