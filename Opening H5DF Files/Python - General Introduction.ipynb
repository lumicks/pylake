{
 "cells": [
  {
   "cell_type": "markdown",
   "metadata": {},
   "source": [
    "# Python - General Introduction\n",
    "\n",
    "##### How to open .h5 files  in Python (Jupyter Notebook) and what you can do with each variable\n",
    "\n",
    "\n",
    "\n",
    "\n",
    "Useful link with tutorial:\n",
    "\n",
    "https://lumicks-pylake.readthedocs.io/en/latest/install.html"
   ]
  },
  {
   "cell_type": "markdown",
   "metadata": {},
   "source": [
    "## Find all the files in the folder "
   ]
  },
  {
   "cell_type": "code",
   "execution_count": 21,
   "metadata": {},
   "outputs": [
    {
     "data": {
      "text/plain": [
       "\"  Install Pylake, in case it's not installed \""
      ]
     },
     "execution_count": 21,
     "metadata": {},
     "output_type": "execute_result"
    }
   ],
   "source": [
    "\"\"\"  Install Pylake, in case it's not installed \"\"\"\n",
    "# !pip install lumicks.pylake"
   ]
  },
  {
   "cell_type": "code",
   "execution_count": 22,
   "metadata": {},
   "outputs": [],
   "source": [
    "\"\"\" Load libraries so that you can analyze the exported data \"\"\"\n",
    "\n",
    "import lumicks.pylake as pylake # package that LUMICKS provides\n",
    "import numpy as np # standard python toolkit for more elaborate mathematical operations\n",
    "import matplotlib.pyplot as plt # plotting library\n"
   ]
  },
  {
   "cell_type": "code",
   "execution_count": 23,
   "metadata": {},
   "outputs": [],
   "source": [
    "\"\"\" Load one file \"\"\"\n",
    "filename = r'20181121-174038 Marker Single tether.h5'\n",
    "f = pylake.File(filename)"
   ]
  },
  {
   "cell_type": "code",
   "execution_count": 24,
   "metadata": {},
   "outputs": [
    {
     "name": "stdout",
     "output_type": "stream",
     "text": [
      "found 1 files in folder\n",
      "20181121-174038 Marker Single tether.h5\n"
     ]
    }
   ],
   "source": [
    "\"\"\" Load list of all files in folder \"\"\"\n",
    "import glob\n",
    "# select the folder, here we search for .h5 files in the Data folder\n",
    "files = glob.glob('*.h5')\n",
    "print(\"found {} files in folder\".format(len(files)))\n",
    "\n",
    "for file in files:\n",
    "    print(file)\n",
    "    f = pylake.File(file)\n",
    "    # do the operation on each file here"
   ]
  },
  {
   "cell_type": "markdown",
   "metadata": {},
   "source": [
    "## List a content of a file"
   ]
  },
  {
   "cell_type": "code",
   "execution_count": 25,
   "metadata": {
    "scrolled": true
   },
   "outputs": [
    {
     "name": "stdout",
     "output_type": "stream",
     "text": [
      "File root metadata:\n",
      "- Bluelake version: 1.5.0-fix-timeout.1\n",
      "- Description: \n",
      "- Experiment: \n",
      "- GUID: {45D771E7-E9BA-4255-B4A2-AE00B8F1715E}\n",
      "- Export time (ns): 1542818438986002600\n",
      "- File format version: 1\n",
      "\n",
      "Bead diameter:\n",
      "  Template 1:\n",
      "  - Data type: [('Timestamp', '<i8'), ('Value', '<f8')]\n",
      "  - Size: 172\n",
      "  Template 2:\n",
      "  - Data type: [('Timestamp', '<i8'), ('Value', '<f8')]\n",
      "  - Size: 172\n",
      "Bead position:\n",
      "  Bead 1 X:\n",
      "  - Data type: [('Timestamp', '<i8'), ('Value', '<f8')]\n",
      "  - Size: 172\n",
      "  Bead 1 Y:\n",
      "  - Data type: [('Timestamp', '<i8'), ('Value', '<f8')]\n",
      "  - Size: 172\n",
      "  Bead 2 X:\n",
      "  - Data type: [('Timestamp', '<i8'), ('Value', '<f8')]\n",
      "  - Size: 172\n",
      "  Bead 2 Y:\n",
      "  - Data type: [('Timestamp', '<i8'), ('Value', '<f8')]\n",
      "  - Size: 172\n",
      "Calibration:\n",
      "  120:\n",
      "    Force 1x\n",
      "    Force 1y\n",
      "    Force 2x\n",
      "    Force 2y\n",
      "    JSON:\n",
      "    - Data type: object\n",
      "    - Size: 1\n",
      "Confocal diagnostics:\n",
      "  Excitation Laser Blue:\n",
      "  - Data type: [('Timestamp', '<i8'), ('Value', '<f8')]\n",
      "  - Size: 0\n",
      "  Excitation Laser Green:\n",
      "  - Data type: [('Timestamp', '<i8'), ('Value', '<f8')]\n",
      "  - Size: 0\n",
      "  Excitation Laser Red:\n",
      "  - Data type: [('Timestamp', '<i8'), ('Value', '<f8')]\n",
      "  - Size: 0\n",
      "Diagnostics:\n",
      "  Trap power 1:\n",
      "  - Data type: float64\n",
      "  - Size: 1668751\n",
      "  Trap power 2:\n",
      "  - Data type: float64\n",
      "  - Size: 1668751\n",
      "Distance:\n",
      "  Distance 1:\n",
      "  - Data type: [('Timestamp', '<i8'), ('Value', '<f8')]\n",
      "  - Size: 172\n",
      "Force HF:\n",
      "  Force 1x:\n",
      "  - Data type: float64\n",
      "  - Size: 1668751\n",
      "  Force 1y:\n",
      "  - Data type: float64\n",
      "  - Size: 1668751\n",
      "  Force 2x:\n",
      "  - Data type: float64\n",
      "  - Size: 1668751\n",
      "  Force 2y:\n",
      "  - Data type: float64\n",
      "  - Size: 1668751\n",
      "Force LF:\n",
      "  Force 1x:\n",
      "  - Data type: [('Timestamp', '<i8'), ('Value', '<f8')]\n",
      "  - Size: 172\n",
      "  Force 1y:\n",
      "  - Data type: [('Timestamp', '<i8'), ('Value', '<f8')]\n",
      "  - Size: 172\n",
      "  Force 2x:\n",
      "  - Data type: [('Timestamp', '<i8'), ('Value', '<f8')]\n",
      "  - Size: 172\n",
      "  Force 2y:\n",
      "  - Data type: [('Timestamp', '<i8'), ('Value', '<f8')]\n",
      "  - Size: 172\n",
      "  Trap 1:\n",
      "  - Data type: [('Timestamp', '<i8'), ('Value', '<f8')]\n",
      "  - Size: 172\n",
      "  Trap 2:\n",
      "  - Data type: [('Timestamp', '<i8'), ('Value', '<f8')]\n",
      "  - Size: 172\n",
      "Marker:\n",
      "  Single tether:\n",
      "  - Data type: object\n",
      "  - Size: 1\n",
      "Photon count:\n",
      "  Blue:\n",
      "  - Data type: uint32\n",
      "  - Size: 1668751\n",
      "  Green:\n",
      "  - Data type: uint32\n",
      "  - Size: 1668751\n",
      "  Red:\n",
      "  - Data type: uint32\n",
      "  - Size: 1668751\n",
      "Power controls:\n",
      "  Overall power:\n",
      "  - Data type: [('Timestamp', '<i8'), ('Value', '<f8')]\n",
      "  - Size: 5\n",
      "  Trap 1 split:\n",
      "  - Data type: [('Timestamp', '<i8'), ('Value', '<f8')]\n",
      "  - Size: 38\n",
      "Trap position:\n",
      "  1X:\n",
      "  - Data type: float64\n",
      "  - Size: 1668751\n",
      "  1Y:\n",
      "  - Data type: float64\n",
      "  - Size: 1668751\n",
      "\n"
     ]
    }
   ],
   "source": [
    "\"\"\"View the structure of a loaded file\"\"\"\n",
    "\n",
    "filename = '20181121-174038 Marker Single tether.h5'\n",
    "f = pylake.File(filename)\n",
    "print(f)"
   ]
  },
  {
   "cell_type": "markdown",
   "metadata": {},
   "source": [
    "There are two types of variables in these files in general:\n",
    "\n",
    "1, Time-traces, e.g. force, distance recordings, confocal recordings, photon count\n",
    "\n",
    "2, Events, e.g. trap calibration, zeroing the force\n"
   ]
  },
  {
   "cell_type": "markdown",
   "metadata": {},
   "source": [
    "## Time-traces / Channels"
   ]
  },
  {
   "attachments": {
    "python_force.png": {
     "image/png": "[encoded data removed]"
    }
   },
   "cell_type": "markdown",
   "metadata": {},
   "source": [
    "![python_force.png](attachment:python_force.png)"
   ]
  },
  {
   "cell_type": "markdown",
   "metadata": {},
   "source": [
    "- \"f\" is the file that you previously selected\n",
    "- the first bracket is the type of variable you're interested in. These are the leftmost items in the list (e.g. Distance or Force)\n",
    "- the second bracket is the secondary item in that list. E.g. \"Force 1x\" is located inside \"Force HF\"\n",
    "\n",
    "So a sample code would be like this:\n",
    "\"f[\"Force HF\"][\"Force 1x\"]\""
   ]
  },
  {
   "cell_type": "code",
   "execution_count": 26,
   "metadata": {},
   "outputs": [],
   "source": [
    "force1x = f[\"Force HF\"][\"Force 1x\"]\n",
    "\n",
    "# or\n",
    "\n",
    "distance = f['Distance']['Distance 1']"
   ]
  },
  {
   "cell_type": "markdown",
   "metadata": {},
   "source": [
    "#### Then you can use different commands on these files:\n",
    "\n",
    "- .plot() to plot these items\n",
    "\n",
    "- ['0s':'10s'] to slice them\n",
    "\n",
    "- .sample_rate to obtain the sampling rate of this variable\n",
    "\n",
    "- .downsampled_by(100) to downsample the file\n",
    "\n",
    "- .data to obtain the raw data from these files\n",
    "\n",
    "- .timestamps to obtain the time data ponts from this data (note that time is in nanoseconds)\n",
    "\n",
    "\n",
    "\n",
    "\n",
    "###### AND you can also combine these commands"
   ]
  },
  {
   "cell_type": "code",
   "execution_count": 27,
   "metadata": {
    "scrolled": false
   },
   "outputs": [
    {
     "data": {
      "image/png": "[encoded data removed]",
      "text/plain": [
       "<Figure size 432x288 with 1 Axes>"
      ]
     },
     "metadata": {
      "needs_background": "light"
     },
     "output_type": "display_data"
    }
   ],
   "source": [
    "\"\"\" Plot the different measured parameters, e.g. force \"\"\"\n",
    "plt.figure()\n",
    "\n",
    "force1x.plot()\n",
    "\n",
    "plt.savefig(\"../docs/load_files/python_fig1.png\")"
   ]
  },
  {
   "cell_type": "code",
   "execution_count": 28,
   "metadata": {},
   "outputs": [
    {
     "data": {
      "image/png": "[encoded data removed]",
      "text/plain": [
       "<Figure size 432x288 with 1 Axes>"
      ]
     },
     "metadata": {
      "needs_background": "light"
     },
     "output_type": "display_data"
    }
   ],
   "source": [
    "\"\"\" Slice them to look at only a certain section of the data \"\"\"\n",
    "\n",
    "force1x['1s':'10s'].plot()\n",
    "\n",
    "plt.savefig(\"../docs/load_files/python_fig2.png\")"
   ]
  },
  {
   "cell_type": "code",
   "execution_count": 29,
   "metadata": {},
   "outputs": [
    {
     "name": "stdout",
     "output_type": "stream",
     "text": [
      "78125\n"
     ]
    }
   ],
   "source": [
    "\"\"\" You can get the sampling rate in Hz \"\"\"\n",
    "\n",
    "sampling_rate = force1x.sample_rate\n",
    "print(sampling_rate)"
   ]
  },
  {
   "cell_type": "code",
   "execution_count": 30,
   "metadata": {},
   "outputs": [],
   "source": [
    "\"\"\" You can downsample the force to a certain sampling frequency \"\"\"\n",
    "\n",
    "final_sampling_rate = 100 #Hz\n",
    "force1x_100Hz = force1x.downsampled_by(int( sampling_rate / final_sampling_rate ))\n"
   ]
  },
  {
   "cell_type": "code",
   "execution_count": 31,
   "metadata": {
    "scrolled": true
   },
   "outputs": [
    {
     "data": {
      "image/png": "[encoded data removed]",
      "text/plain": [
       "<Figure size 432x288 with 1 Axes>"
      ]
     },
     "metadata": {
      "needs_background": "light"
     },
     "output_type": "display_data"
    }
   ],
   "source": [
    "\"\"\" Now we can plot the downsampled force ! \"\"\"\n",
    "\n",
    "force1x.plot()\n",
    "force1x_100Hz.plot()\n",
    "\n",
    "plt.savefig(\"../docs/load_files/python_fig3.png\")"
   ]
  },
  {
   "cell_type": "code",
   "execution_count": 32,
   "metadata": {},
   "outputs": [
    {
     "data": {
      "image/png": "[encoded data removed]",
      "text/plain": [
       "<Figure size 432x288 with 1 Axes>"
      ]
     },
     "metadata": {
      "needs_background": "light"
     },
     "output_type": "display_data"
    }
   ],
   "source": [
    "\"\"\" We can also get the RAW data out and plot them ourselves \"\"\"\n",
    "\n",
    "force_data = force1x_100Hz.data\n",
    "force_time = force1x_100Hz.timestamps\n",
    "\n",
    "\"\"\" Please NOTE that the time data are in NANOSECONDS\n",
    "\n",
    "    We can convert them to seconds in this way, you subtract the first (zeroth) value, then divide by 1e9 (ten to the power of nine)\n",
    "\"\"\" \n",
    "\n",
    "force_time = (force_time - force_time[0]) * 1e-9\n",
    "\n",
    "# plot them\n",
    "plt.plot(force_time, force_data)\n",
    "\n",
    "plt.savefig(\"../docs/load_files/python_fig4.png\")"
   ]
  },
  {
   "cell_type": "markdown",
   "metadata": {},
   "source": [
    "### Plot Force-Distance curve"
   ]
  },
  {
   "cell_type": "code",
   "execution_count": 37,
   "metadata": {},
   "outputs": [
    {
     "data": {
      "image/png": "[encoded data removed]",
      "text/plain": [
       "<Figure size 432x288 with 1 Axes>"
      ]
     },
     "metadata": {
      "needs_background": "light"
     },
     "output_type": "display_data"
    }
   ],
   "source": [
    "\"\"\" We can make the same plot as before with the obtained data \"\"\"\n",
    "\n",
    "force_data = f[\"Force LF\"][\"Force 1x\"].data\n",
    "distance_data = f[\"Distance\"][\"Distance 1\"].data\n",
    "\n",
    "plt.plot(distance_data, force_data)\n",
    "\n",
    "\"\"\"Now you have to label the axis yourselves\"\"\"\n",
    "\n",
    "plt.xlabel(\"Distance (um)\")\n",
    "plt.ylabel(\"Force (pN)\")\n",
    "\n",
    "plt.savefig(\"../docs/load_files/python_fig5.png\")"
   ]
  },
  {
   "cell_type": "markdown",
   "metadata": {},
   "source": [
    "## Events (e.g. calibration)"
   ]
  },
  {
   "attachments": {
    "calib.png": {
     "image/png": "[encoded data removed]"
    }
   },
   "cell_type": "markdown",
   "metadata": {},
   "source": [
    "![calib.png](attachment:calib.png)"
   ]
  },
  {
   "cell_type": "markdown",
   "metadata": {},
   "source": [
    "In terms of calibration events, we have 1 in the dataset that is named \"123\""
   ]
  },
  {
   "cell_type": "code",
   "execution_count": 34,
   "metadata": {},
   "outputs": [],
   "source": [
    "params = f[\"Calibration\"][\"120\"][\"Force 1x\"]"
   ]
  },
  {
   "cell_type": "markdown",
   "metadata": {},
   "source": [
    "#### We can also apply certain functions to these files\n",
    "\n",
    "- .h5.attrs.items() get a list of what was recorded during this event\n",
    "\n",
    "- .attrs.get() we can obtain one of the parameters\n"
   ]
  },
  {
   "cell_type": "code",
   "execution_count": 35,
   "metadata": {},
   "outputs": [
    {
     "data": {
      "text/plain": [
       "[('Kind', 'Reset offset to zero'),\n",
       " ('Offset (pN)', -83.95937128462808),\n",
       " ('Response (pN/V)', 817.3620512725377),\n",
       " ('Sign', 1.0),\n",
       " ('Start time (ns)', 1542807812426015400),\n",
       " ('Stop time (ns)', 1542807822426015400),\n",
       " ('Bead diameter (um)', 4.4),\n",
       " ('Fit range (max.) (Hz)', 23000.0),\n",
       " ('Fit range (min.) (Hz)', 10.0),\n",
       " ('Fit tolerance', 1e-07),\n",
       " ('Max iterations', 10000.0),\n",
       " ('Number of samples', 781250.0),\n",
       " ('Points per block', 2000.0),\n",
       " ('Sample rate (Hz)', 78125.0),\n",
       " ('Temperature (C)', 20.0),\n",
       " ('Viscosity (Pa*s)', 0.001002),\n",
       " ('D (V^2/s)', 0.0013035237229152086),\n",
       " ('Rd (um/V)', 8.644328902663627),\n",
       " ('Rf (pN/V)', 817.3620512725377),\n",
       " ('alpha', 0.6348574679502846),\n",
       " ('backing (%)', 100.0),\n",
       " ('chi_squared_per_deg', 3.437949600748519),\n",
       " ('err_D', 9.46357965045672e-06),\n",
       " ('err_alpha', 0.0026906380810170494),\n",
       " ('err_f_diode', 143.89781216952397),\n",
       " ('err_fc', 4.065413448229771),\n",
       " ('f_diode (Hz)', 7140.409949534314),\n",
       " ('fc (Hz)', 362.1694334888449),\n",
       " ('kappa (pN/nm)', 0.09455471448115298),\n",
       " ('ps_fitted', 0.0),\n",
       " ('ps_model_fit', 0.0)]"
      ]
     },
     "execution_count": 35,
     "metadata": {},
     "output_type": "execute_result"
    }
   ],
   "source": [
    "\"\"\" Print the list of calibration paramenters \"\"\"\n",
    "\n",
    "list(params.h5.attrs.items())"
   ]
  },
  {
   "cell_type": "code",
   "execution_count": 36,
   "metadata": {},
   "outputs": [
    {
     "name": "stdout",
     "output_type": "stream",
     "text": [
      "0.09455471448115298\n"
     ]
    }
   ],
   "source": [
    "\"\"\" interested in stiffness for example \"\"\"\n",
    "\n",
    "stiffness = params.h5.attrs.get(\"kappa (pN/nm)\")\n",
    "print(stiffness)"
   ]
  }
 ],
 "metadata": {
  "kernelspec": {
   "display_name": "Python 3",
   "language": "python",
   "name": "python3"
  },
  "language_info": {
   "codemirror_mode": {
    "name": "ipython",
    "version": 3
   },
   "file_extension": ".py",
   "mimetype": "text/x-python",
   "name": "python",
   "nbconvert_exporter": "python",
   "pygments_lexer": "ipython3",
   "version": "3.7.0"
  }
 },
 "nbformat": 4,
 "nbformat_minor": 2
}
